{
 "cells": [
  {
   "cell_type": "code",
   "execution_count": 1,
   "id": "4d1c0db2",
   "metadata": {},
   "outputs": [],
   "source": [
    "from linear_depth_circuit import *\n",
    "from matrix_simulation import *\n",
    "from naive_circuit import *\n",
    "import matplotlib.pyplot as plt\n",
    "import numpy as np"
   ]
  },
  {
   "cell_type": "code",
   "execution_count": 2,
   "id": "85a88a1b",
   "metadata": {},
   "outputs": [],
   "source": [
    "# Number of position qubits\n",
    "n = 3\n",
    "# Number of steps\n",
    "n_step = 23\n",
    "# Number of times we want to run the circuits\n",
    "n_shot = 10000\n",
    "# Angles for the coin operators\n",
    "angles = random_angles(n)\n",
    "\n",
    "# Linear-depth position-dependent coin operators quantum circuit\n",
    "linear_qc = quantum_walk_linear_depth_circuit(n,angles,n_step,qft=True)\n",
    "counts1 = simulate_circuit(linear_qc,n_shot)\n",
    "\n",
    "# Naive position-dependent coin operators quantum circuit\n",
    "naive_qc = quantum_walk_naive_circuit(n,angles,n_step,qft=True)\n",
    "counts2 = simulate_circuit(naive_qc1,n_shot)\n",
    "\n",
    "# Matrix simulation\n",
    "v = position_state(n)\n",
    "c = coin_state()\n",
    "q = quantum_state(v,c)\n",
    "\n",
    "q_final = quantum_walk_simulation(n,q,angles,n_step)\n",
    "\n",
    "counts3 = results(n,q_final)\n",
    "# Convert the matrix simulation results in qiskit dictionary\n",
    "counts3 = Counts(counts3)"
   ]
  },
  {
   "cell_type": "code",
   "execution_count": 4,
   "id": "c54e7321",
   "metadata": {},
   "outputs": [
    {
     "data": {
      "image/png": "[encoded data removed]",
      "text/plain": [
       "<Figure size 700x500 with 1 Axes>"
      ]
     },
     "execution_count": 4,
     "metadata": {},
     "output_type": "execute_result"
    }
   ],
   "source": [
    "plot_histogram([counts1,counts2, counts3], legend=['Naive','Linear-depth', 'Matrix simulation'],\n",
    "               color=['blue','magenta','orange'],bar_labels=False)"
   ]
  },
  {
   "cell_type": "code",
   "execution_count": null,
   "id": "257f9708",
   "metadata": {},
   "outputs": [],
   "source": [
    "angles"
   ]
  },
  {
   "cell_type": "code",
   "execution_count": null,
   "id": "81621b29",
   "metadata": {},
   "outputs": [],
   "source": []
  },
  {
   "cell_type": "code",
   "execution_count": 27,
   "id": "f2a44def",
   "metadata": {},
   "outputs": [
    {
     "data": {
      "text/plain": [
       "6196"
      ]
     },
     "execution_count": 27,
     "metadata": {},
     "output_type": "execute_result"
    }
   ],
   "source": [
    "n = 6\n",
    "basis = ['rz', 'h', 'cx']\n",
    "simulator = QasmSimulator()\n",
    "angles = random_angles(n)\n",
    "linear = build_linear_depth_circuit(n,angles)\n",
    "linear_compiled = transpile(linear, simulator, basis_gates=basis)\n",
    "\n",
    "sum(dict(linear_compiled.count_ops()).values())"
   ]
  },
  {
   "cell_type": "code",
   "execution_count": 24,
   "id": "51a6912b",
   "metadata": {},
   "outputs": [
    {
     "data": {
      "text/plain": [
       "13"
      ]
     },
     "execution_count": 24,
     "metadata": {},
     "output_type": "execute_result"
    }
   ],
   "source": [
    "qft = qft_shift(3)\n",
    "qft_compiled = transpile(qft, simulator, basis_gates=basis)\n",
    "sum(dict(qft.count_ops()).values())"
   ]
  },
  {
   "cell_type": "markdown",
   "id": "4b2e0027",
   "metadata": {},
   "source": [
    "### Plots"
   ]
  },
  {
   "cell_type": "code",
   "execution_count": null,
   "id": "fa629f97",
   "metadata": {},
   "outputs": [],
   "source": [
    "n_max = 8\n",
    "n_abs = [i for i in range(1,n_max+1)]\n",
    "\n",
    "# Depth\n",
    "depth_naive = []\n",
    "depth_linear = []\n",
    "depth_naive_compiled = []\n",
    "depth_linear_compiled = []\n",
    "\n",
    "# Quantum gates\n",
    "gate_naive = []\n",
    "gate_linear = []\n",
    "gate_naive_compiled = []\n",
    "gate_linear_compiled = []\n",
    "\n",
    "# Collecting the datas\n",
    "\n",
    "basis = ['rz', 'h', 'cx']\n",
    "simulator = QasmSimulator()\n",
    "\n",
    "for i in range(1,n_max+1):\n",
    "    angle = random_angles(i)\n",
    "    # Building the circuits\n",
    "    qc_naive = build_naive_circuit(i,angle)\n",
    "    qc_linear = build_linear_depth_circuit(i,angle)\n",
    "    # Getting the compiled circuits\n",
    "    qc_naive_compiled = transpile(qc_naive, simulator, basis_gates=basis)\n",
    "    qc_linear_compiled = transpile(qc_linear, simulator, basis_gates=basis)\n",
    "    # Depth\n",
    "    depth_naive.append(qc_naive.depth())\n",
    "    depth_linear.append(qc_linear.depth())\n",
    "    depth_naive_compiled.append(qc_naive_compiled.depth())\n",
    "    depth_linear_compiled.append(qc_linear_compiled.depth())\n",
    "    # Number of gate\n",
    "    gate_naive.append(sum(dict(qc_naive.count_ops()).values()))\n",
    "    gate_linear.append(sum(dict(qc_linear.count_ops()).values()))\n",
    "    gate_naive_compiled.append(sum(dict(qc_naive_compiled.count_ops()).values()))\n",
    "    gate_linear_compiled.append(sum(dict(qc_linear_compiled.count_ops()).values()))"
   ]
  },
  {
   "cell_type": "code",
   "execution_count": null,
   "id": "3f3e3cba",
   "metadata": {},
   "outputs": [],
   "source": [
    "def plot(x,y1,y2,label):\n",
    "    plt.plot(x,y2,label='Linear-depth circuit',marker='o',markeredgecolor='green',markerfacecolor='green')\n",
    "    plt.plot(x,y1,label='Naive circuit',marker='o',markeredgecolor='red',markerfacecolor='red')\n",
    "    plt.xlabel('n')\n",
    "    plt.ylabel(label)\n",
    "    plt.legend()\n",
    "    plt.show()"
   ]
  },
  {
   "cell_type": "code",
   "execution_count": null,
   "id": "c9dd0cea",
   "metadata": {
    "scrolled": false
   },
   "outputs": [],
   "source": [
    "plot(n_abs, depth_naive, depth_linear, 'Depth before compilation')\n",
    "plot(n_abs, depth_naive_compiled, depth_linear_compiled, 'Depth after compilation')\n",
    "plot(n_abs, np.log2(depth_naive_compiled), np.log2(depth_linear_compiled), 'log2(Depth) after compilation')\n",
    "plot(n_abs, gate_naive, gate_linear, 'Number of gate before compilation')\n",
    "plot(n_abs, gate_naive_compiled, gate_linear_compiled, 'Number of gate after compilation')\n",
    "plot(n_abs, np.log2(gate_naive_compiled), np.log2(gate_linear_compiled), 'log2(Number of gate) after compilation')"
   ]
  },
  {
   "cell_type": "code",
   "execution_count": null,
   "id": "def82453",
   "metadata": {},
   "outputs": [],
   "source": [
    "from qiskit.tools.monitor import job_monitor\n",
    "\n",
    "#IBMQ.save_account('7c6a45834df75bd51a09bcf11f6623e946c3858cac62e34e0166f60cd278da6b407e15103d423a942c93663748a4276d94c0189825e73c52758ef2e84e49e528', overwrite=True)\n",
    "#IBMQ.load_account()\n",
    "\n",
    "# Number of position qubits\n",
    "n = 1\n",
    "# Number of steps\n",
    "n_step = 4\n",
    "\n",
    "# Linear-depth position-dependent coin operators quantum circuit\n",
    "linear_qc = quantum_walk_linear_depth_circuit(n,angles,n_step)\n",
    "\n",
    "provider = IBMQ.get_provider(hub = 'ibm-q')\n",
    "device = provider.get_backend('ibmq_manila')\n",
    "job = execute(linear_qc ,backend = device,shots = 1024)\n",
    "job_monitor(job)\n",
    "device_result = job.result()\n",
    "real_counts2 = device_result.get_counts(linear_qc)"
   ]
  },
  {
   "cell_type": "code",
   "execution_count": null,
   "id": "359ddf97",
   "metadata": {},
   "outputs": [],
   "source": [
    "# Linear-depth position-dependent coin operators quantum circuit\n",
    "naive_qc = quantum_walk_naive_circuit(n,angles,n_step)\n",
    "\n",
    "provider = IBMQ.get_provider(hub = 'ibm-q')\n",
    "device = provider.get_backend('ibmq_manila')\n",
    "job = execute(naive_qc ,backend = device,shots = 1024)\n",
    "job_monitor(job)\n",
    "device_result = job.result()\n",
    "real_counts = device_result.get_counts(naive_qc)"
   ]
  },
  {
   "cell_type": "code",
   "execution_count": null,
   "id": "a905cf65",
   "metadata": {},
   "outputs": [],
   "source": [
    "# Matrix simulation\n",
    "v = position_state(n)\n",
    "c = coin_state()\n",
    "q = quantum_state(v,c)\n",
    "\n",
    "q_final = quantum_walk_simulation(n,q,angles,4)\n",
    "\n",
    "counts3 = results(n,q_final)\n",
    "# Convert the matrix simulation results in qiskit dictionary\n",
    "counts3 = Counts(counts3)"
   ]
  },
  {
   "cell_type": "code",
   "execution_count": null,
   "id": "126ec152",
   "metadata": {},
   "outputs": [],
   "source": [
    "plot_histogram([real_counts2,real_counts, counts3], legend=['Linear-depth','Naive', 'Matrix simulation'],\n",
    "               color=['blue','magenta','orange'],bar_labels=False)"
   ]
  },
  {
   "cell_type": "code",
   "execution_count": null,
   "id": "bc57c5a6",
   "metadata": {},
   "outputs": [],
   "source": [
    "naive_qc = build_naive_circuit(2,random_angles(2))\n",
    "naive_qc.draw(\"mpl\")"
   ]
  },
  {
   "cell_type": "code",
   "execution_count": null,
   "id": "986677a1",
   "metadata": {},
   "outputs": [],
   "source": [
    "linear_qc = build_linear_depth_circuit(2,random_angles(2))\n",
    "linear_qc.draw(\"mpl\")"
   ]
  },
  {
   "cell_type": "code",
   "execution_count": null,
   "id": "1c8ac414",
   "metadata": {},
   "outputs": [],
   "source": [
    "simulator = QasmSimulator()\n",
    "naive_qc_compiled = transpile(naive_qc, simulator, basis_gates=['rz', 'h', 'cx'])\n",
    "naive_qc_compiled.draw(\"mpl\")"
   ]
  },
  {
   "cell_type": "code",
   "execution_count": null,
   "id": "60990dee",
   "metadata": {},
   "outputs": [],
   "source": [
    "linear_qc_compiled = transpile(linear_qc, simulator, basis_gates=['rz', 'h', 'cx'])\n",
    "linear_qc_compiled.draw(\"mpl\")"
   ]
  }
 ],
 "metadata": {
  "kernelspec": {
   "display_name": "Python 3 (ipykernel)",
   "language": "python",
   "name": "python3"
  },
  "language_info": {
   "codemirror_mode": {
    "name": "ipython",
    "version": 3
   },
   "file_extension": ".py",
   "mimetype": "text/x-python",
   "name": "python",
   "nbconvert_exporter": "python",
   "pygments_lexer": "ipython3",
   "version": "3.8.10"
  }
 },
 "nbformat": 4,
 "nbformat_minor": 5
}
