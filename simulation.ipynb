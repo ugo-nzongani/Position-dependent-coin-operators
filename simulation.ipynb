{
 "cells": [
  {
   "cell_type": "code",
   "execution_count": 1,
   "id": "4d1c0db2",
   "metadata": {},
   "outputs": [],
   "source": [
    "from linear_depth_circuit import *\n",
    "from matrix_simulation import *\n",
    "from naive_circuit import *"
   ]
  },
  {
   "cell_type": "code",
   "execution_count": 112,
   "id": "85a88a1b",
   "metadata": {},
   "outputs": [],
   "source": [
    "# Number of position qubits\n",
    "n = 7\n",
    "# Number of steps\n",
    "n_step = 1\n",
    "# Number of times we want to run the circuits\n",
    "n_shot = 1000\n",
    "# Angles for the coin operators\n",
    "angles = random_angles(n)\n",
    "\n",
    "# Linear-depth position-dependent coin operators quantum circuit\n",
    "#linear_qc = quantum_walk_linear_depth_circuit(n,angles,n_step)\n",
    "linear_qc = build_linear_depth_circuit(n,angles)\n",
    "#counts1 = simulate_circuit(linear_qc,n_shot)\n",
    "\n",
    "# Naive position-dependent coin operators quantum circuit\n",
    "#naive_qc = quantum_walk_naive_circuit(n,angles,n_step)\n",
    "naive_qc = build_naive_circuit(n,angles)\n",
    "#counts2 = simulate_circuit(naive_qc,n_shot)\n",
    "\n",
    "# Matrix simulation\n",
    "v = position_state(n)\n",
    "c = coin_state()\n",
    "q = quantum_state(v,c)\n",
    "\n",
    "#q_final = quantum_walk_simulation(n,q,angles,n_step)\n",
    "\n",
    "#counts3 = results(n,q_final)\n",
    "# Convert the matrix simulation results in qiskit dictionary\n",
    "#counts3 = Counts(counts3)\n",
    "\n",
    "#plot_histogram([counts1,counts2, counts3], legend=['Linear-depth','Naive', 'Matrix simulation'], color=['blue','magenta','orange'])"
   ]
  },
  {
   "cell_type": "code",
   "execution_count": 113,
   "id": "99311628",
   "metadata": {},
   "outputs": [
    {
     "data": {
      "text/plain": [
       "55"
      ]
     },
     "execution_count": 113,
     "metadata": {},
     "output_type": "execute_result"
    }
   ],
   "source": [
    "linear_qc.depth()"
   ]
  },
  {
   "cell_type": "code",
   "execution_count": 114,
   "id": "098b7126",
   "metadata": {},
   "outputs": [
    {
     "data": {
      "text/plain": [
       "256"
      ]
     },
     "execution_count": 114,
     "metadata": {},
     "output_type": "execute_result"
    }
   ],
   "source": [
    "naive_qc.depth()"
   ]
  },
  {
   "cell_type": "code",
   "execution_count": 115,
   "id": "99b324ef",
   "metadata": {},
   "outputs": [
    {
     "name": "stdout",
     "output_type": "stream",
     "text": [
      "{'cx': 960, 'cswap': 508, 'cu': 128, 'x': 2}\n"
     ]
    }
   ],
   "source": [
    "print(dict(linear_qc.count_ops()))"
   ]
  },
  {
   "cell_type": "code",
   "execution_count": 116,
   "id": "3392ad0e",
   "metadata": {},
   "outputs": [
    {
     "name": "stdout",
     "output_type": "stream",
     "text": [
      "{'x': 254, 'c7u': 128}\n"
     ]
    }
   ],
   "source": [
    "print(dict(naive_qc.count_ops()))"
   ]
  },
  {
   "cell_type": "code",
   "execution_count": 117,
   "id": "6155996d",
   "metadata": {},
   "outputs": [],
   "source": [
    "simulator = QasmSimulator()\n",
    "compiled_circuit = transpile(linear_qc, simulator)"
   ]
  },
  {
   "cell_type": "code",
   "execution_count": 118,
   "id": "95065cca",
   "metadata": {},
   "outputs": [
    {
     "data": {
      "text/plain": [
       "55"
      ]
     },
     "execution_count": 118,
     "metadata": {},
     "output_type": "execute_result"
    }
   ],
   "source": [
    "compiled_circuit.depth()"
   ]
  },
  {
   "cell_type": "code",
   "execution_count": 119,
   "id": "f9d11009",
   "metadata": {},
   "outputs": [
    {
     "name": "stdout",
     "output_type": "stream",
     "text": [
      "{'cx': 864, 'cswap': 508, 'cu': 128, 'x': 2}\n"
     ]
    }
   ],
   "source": [
    "print(dict(compiled_circuit.count_ops()))"
   ]
  },
  {
   "cell_type": "code",
   "execution_count": 120,
   "id": "f47d861e",
   "metadata": {},
   "outputs": [],
   "source": [
    "simulator = QasmSimulator()\n",
    "compiled_circuit = transpile(naive_qc, simulator)"
   ]
  },
  {
   "cell_type": "code",
   "execution_count": 121,
   "id": "e652660c",
   "metadata": {},
   "outputs": [
    {
     "data": {
      "text/plain": [
       "227200"
      ]
     },
     "execution_count": 121,
     "metadata": {},
     "output_type": "execute_result"
    }
   ],
   "source": [
    "compiled_circuit.depth()"
   ]
  },
  {
   "cell_type": "code",
   "execution_count": 122,
   "id": "38196361",
   "metadata": {},
   "outputs": [
    {
     "name": "stdout",
     "output_type": "stream",
     "text": [
      "{'cx': 145920, 'u': 48768, 'p': 32511, 'u1': 32383, 'u3': 16258, 'x': 252}\n"
     ]
    }
   ],
   "source": [
    "print(dict(compiled_circuit.count_ops()))"
   ]
  },
  {
   "cell_type": "code",
   "execution_count": null,
   "id": "fcf3cde7",
   "metadata": {},
   "outputs": [],
   "source": []
  }
 ],
 "metadata": {
  "kernelspec": {
   "display_name": "Python 3 (ipykernel)",
   "language": "python",
   "name": "python3"
  },
  "language_info": {
   "codemirror_mode": {
    "name": "ipython",
    "version": 3
   },
   "file_extension": ".py",
   "mimetype": "text/x-python",
   "name": "python",
   "nbconvert_exporter": "python",
   "pygments_lexer": "ipython3",
   "version": "3.8.10"
  }
 },
 "nbformat": 4,
 "nbformat_minor": 5
}
